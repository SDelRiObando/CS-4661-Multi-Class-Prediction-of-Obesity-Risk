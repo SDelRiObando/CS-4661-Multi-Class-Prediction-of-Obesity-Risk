{
 "cells": [
  {
   "cell_type": "markdown",
   "id": "0c482291-9abf-43b3-905c-2c55190c0c7b",
   "metadata": {},
   "source": [
    "# Imports"
   ]
  },
  {
   "cell_type": "code",
   "execution_count": 1,
   "id": "e8e27edc-38ba-437f-abf9-81852f6acc26",
   "metadata": {},
   "outputs": [],
   "source": [
    "import pandas as pd\n",
    "import numpy as np\n",
    "import matplotlib.pyplot as plt\n",
    "from sklearn.metrics import accuracy_score, confusion_matrix, classification_report\n",
    "from sklearn.model_selection import train_test_split\n",
    "from sklearn.neighbors import KNeighborsClassifier\n",
    "from sklearn.tree import DecisionTreeClassifier\n",
    "from sklearn.ensemble import RandomForestClassifier\n",
    "from sklearn.linear_model import LogisticRegression\n",
    "from sklearn.linear_model import LinearRegression\n",
    "from sklearn.metrics import accuracy_score, mean_squared_error\n",
    "from sklearn.ensemble import VotingClassifier\n",
    "from sklearn.preprocessing import LabelEncoder, OneHotEncoder, StandardScaler"
   ]
  },
  {
   "cell_type": "markdown",
   "id": "921ea861-42d4-48ab-8e53-490c8aed7785",
   "metadata": {},
   "source": [
    "# Preprocess Data"
   ]
  },
  {
   "cell_type": "code",
   "execution_count": 2,
   "id": "67fab086-1704-43cc-ba8f-70bddb2a7115",
   "metadata": {},
   "outputs": [
    {
     "data": {
      "text/html": [
       "<div>\n",
       "<style scoped>\n",
       "    .dataframe tbody tr th:only-of-type {\n",
       "        vertical-align: middle;\n",
       "    }\n",
       "\n",
       "    .dataframe tbody tr th {\n",
       "        vertical-align: top;\n",
       "    }\n",
       "\n",
       "    .dataframe thead th {\n",
       "        text-align: right;\n",
       "    }\n",
       "</style>\n",
       "<table border=\"1\" class=\"dataframe\">\n",
       "  <thead>\n",
       "    <tr style=\"text-align: right;\">\n",
       "      <th></th>\n",
       "      <th>Gender</th>\n",
       "      <th>Age</th>\n",
       "      <th>Height</th>\n",
       "      <th>Weight</th>\n",
       "      <th>family_history_with_overweight</th>\n",
       "      <th>FAVC</th>\n",
       "      <th>FCVC</th>\n",
       "      <th>NCP</th>\n",
       "      <th>CAEC</th>\n",
       "      <th>SMOKE</th>\n",
       "      <th>CH2O</th>\n",
       "      <th>SCC</th>\n",
       "      <th>FAF</th>\n",
       "      <th>TUE</th>\n",
       "      <th>CALC</th>\n",
       "      <th>MTRANS</th>\n",
       "      <th>NObeyesdad</th>\n",
       "    </tr>\n",
       "  </thead>\n",
       "  <tbody>\n",
       "    <tr>\n",
       "      <th>0</th>\n",
       "      <td>Male</td>\n",
       "      <td>24.443011</td>\n",
       "      <td>1.699998</td>\n",
       "      <td>81.669950</td>\n",
       "      <td>yes</td>\n",
       "      <td>yes</td>\n",
       "      <td>2.000000</td>\n",
       "      <td>2.983297</td>\n",
       "      <td>Sometimes</td>\n",
       "      <td>no</td>\n",
       "      <td>2.763573</td>\n",
       "      <td>no</td>\n",
       "      <td>0.000000</td>\n",
       "      <td>0.976473</td>\n",
       "      <td>Sometimes</td>\n",
       "      <td>Public_Transportation</td>\n",
       "      <td>Overweight_Level_II</td>\n",
       "    </tr>\n",
       "    <tr>\n",
       "      <th>1</th>\n",
       "      <td>Female</td>\n",
       "      <td>18.000000</td>\n",
       "      <td>1.560000</td>\n",
       "      <td>57.000000</td>\n",
       "      <td>yes</td>\n",
       "      <td>yes</td>\n",
       "      <td>2.000000</td>\n",
       "      <td>3.000000</td>\n",
       "      <td>Frequently</td>\n",
       "      <td>no</td>\n",
       "      <td>2.000000</td>\n",
       "      <td>no</td>\n",
       "      <td>1.000000</td>\n",
       "      <td>1.000000</td>\n",
       "      <td>no</td>\n",
       "      <td>Automobile</td>\n",
       "      <td>Normal_Weight</td>\n",
       "    </tr>\n",
       "    <tr>\n",
       "      <th>2</th>\n",
       "      <td>Female</td>\n",
       "      <td>18.000000</td>\n",
       "      <td>1.711460</td>\n",
       "      <td>50.165754</td>\n",
       "      <td>yes</td>\n",
       "      <td>yes</td>\n",
       "      <td>1.880534</td>\n",
       "      <td>1.411685</td>\n",
       "      <td>Sometimes</td>\n",
       "      <td>no</td>\n",
       "      <td>1.910378</td>\n",
       "      <td>no</td>\n",
       "      <td>0.866045</td>\n",
       "      <td>1.673584</td>\n",
       "      <td>no</td>\n",
       "      <td>Public_Transportation</td>\n",
       "      <td>Insufficient_Weight</td>\n",
       "    </tr>\n",
       "    <tr>\n",
       "      <th>3</th>\n",
       "      <td>Female</td>\n",
       "      <td>20.952737</td>\n",
       "      <td>1.710730</td>\n",
       "      <td>131.274851</td>\n",
       "      <td>yes</td>\n",
       "      <td>yes</td>\n",
       "      <td>3.000000</td>\n",
       "      <td>3.000000</td>\n",
       "      <td>Sometimes</td>\n",
       "      <td>no</td>\n",
       "      <td>1.674061</td>\n",
       "      <td>no</td>\n",
       "      <td>1.467863</td>\n",
       "      <td>0.780199</td>\n",
       "      <td>Sometimes</td>\n",
       "      <td>Public_Transportation</td>\n",
       "      <td>Obesity_Type_III</td>\n",
       "    </tr>\n",
       "    <tr>\n",
       "      <th>4</th>\n",
       "      <td>Male</td>\n",
       "      <td>31.641081</td>\n",
       "      <td>1.914186</td>\n",
       "      <td>93.798055</td>\n",
       "      <td>yes</td>\n",
       "      <td>yes</td>\n",
       "      <td>2.679664</td>\n",
       "      <td>1.971472</td>\n",
       "      <td>Sometimes</td>\n",
       "      <td>no</td>\n",
       "      <td>1.979848</td>\n",
       "      <td>no</td>\n",
       "      <td>1.967973</td>\n",
       "      <td>0.931721</td>\n",
       "      <td>Sometimes</td>\n",
       "      <td>Public_Transportation</td>\n",
       "      <td>Overweight_Level_II</td>\n",
       "    </tr>\n",
       "  </tbody>\n",
       "</table>\n",
       "</div>"
      ],
      "text/plain": [
       "   Gender        Age    Height      Weight family_history_with_overweight  \\\n",
       "0    Male  24.443011  1.699998   81.669950                            yes   \n",
       "1  Female  18.000000  1.560000   57.000000                            yes   \n",
       "2  Female  18.000000  1.711460   50.165754                            yes   \n",
       "3  Female  20.952737  1.710730  131.274851                            yes   \n",
       "4    Male  31.641081  1.914186   93.798055                            yes   \n",
       "\n",
       "  FAVC      FCVC       NCP        CAEC SMOKE      CH2O SCC       FAF  \\\n",
       "0  yes  2.000000  2.983297   Sometimes    no  2.763573  no  0.000000   \n",
       "1  yes  2.000000  3.000000  Frequently    no  2.000000  no  1.000000   \n",
       "2  yes  1.880534  1.411685   Sometimes    no  1.910378  no  0.866045   \n",
       "3  yes  3.000000  3.000000   Sometimes    no  1.674061  no  1.467863   \n",
       "4  yes  2.679664  1.971472   Sometimes    no  1.979848  no  1.967973   \n",
       "\n",
       "        TUE       CALC                 MTRANS           NObeyesdad  \n",
       "0  0.976473  Sometimes  Public_Transportation  Overweight_Level_II  \n",
       "1  1.000000         no             Automobile        Normal_Weight  \n",
       "2  1.673584         no  Public_Transportation  Insufficient_Weight  \n",
       "3  0.780199  Sometimes  Public_Transportation     Obesity_Type_III  \n",
       "4  0.931721  Sometimes  Public_Transportation  Overweight_Level_II  "
      ]
     },
     "execution_count": 2,
     "metadata": {},
     "output_type": "execute_result"
    }
   ],
   "source": [
    "df = pd.read_csv('../playground-series-s4e2/train.csv')\n",
    "df.drop('id', axis=1, inplace = True)\n",
    "df.head()"
   ]
  },
  {
   "cell_type": "code",
   "execution_count": 3,
   "id": "4c832f6f-15c4-4ab0-bb72-847d61d82fb0",
   "metadata": {},
   "outputs": [],
   "source": [
    "# Encode multicategorical features (one-hot encoding) and label encode the target variable\n",
    "categorical_columns = ['Gender', 'family_history_with_overweight', 'FAVC', 'CAEC', 'SMOKE', 'SCC', 'CALC', 'MTRANS']\n",
    "target = 'NObeyesdad'\n",
    "\n",
    "# Label Encoding for the target (multi-class)\n",
    "target_encoder = LabelEncoder()\n",
    "df[target] = target_encoder.fit_transform(df[target])\n",
    "\n",
    "# One-hot encoding for multicategorical features\n",
    "df = pd.get_dummies(df, columns=categorical_columns, drop_first=True)\n",
    "\n",
    "# Scales numerical features\n",
    "scaler = StandardScaler()\n",
    "\n",
    "# List numerical columns to scale\n",
    "numerical_columns = ['Age', 'Height', 'Weight', 'FCVC', 'NCP', 'CH2O', 'FAF', 'TUE']\n",
    "scaler = StandardScaler()\n",
    "df[numerical_columns] = scaler.fit_transform(df[numerical_columns])\n",
    "\n",
    "# Features and target\n",
    "X = df.drop(columns=[target])  # Features\n",
    "y = df[target]  # Target\n",
    "\n",
    "# Split the data into training and test sets\n",
    "X_train, X_test, y_train, y_test = train_test_split(X, y, test_size=0.2, random_state=2)\n",
    "\n",
    "# Fit and transform the training data\n",
    "X_train_normalized = scaler.fit_transform(X_train)\n",
    "\n",
    "# Only transform the testing data based on training data statistics\n",
    "X_test_normalized = scaler.transform(X_test)"
   ]
  },
  {
   "cell_type": "markdown",
   "id": "6ce1573f-e9d4-4fb6-915e-34cc0a2a0e66",
   "metadata": {},
   "source": [
    "# Store Accuracy Scores"
   ]
  },
  {
   "cell_type": "code",
   "execution_count": 4,
   "id": "679cb62d-f667-4ba2-857d-77460d5d9b5f",
   "metadata": {},
   "outputs": [],
   "source": [
    "knn = KNeighborsClassifier(n_neighbors = 5)\n",
    "dt = DecisionTreeClassifier(criterion='entropy', max_depth=None,)#decision tree \n",
    "lr = LogisticRegression(multi_class='multinomial', solver='lbfgs', max_iter=1000)\n",
    "rf = RandomForestClassifier(n_estimators=100, random_state=2)\n",
    "linr = LinearRegression()\n",
    "\n",
    "# Store the accuracy scores\n",
    "accuracy_scores = []\n",
    "\n",
    "# Define models in a dictionary for easy access\n",
    "models = {\n",
    "    'KNN': knn,\n",
    "    'Decision Tree': dt,\n",
    "    'Random Forest': rf,\n",
    "    'Logistic Regression': lr,\n",
    "    'Linear Regression': linr,\n",
    "}"
   ]
  },
  {
   "cell_type": "markdown",
   "id": "92df6dce-65bd-4cf8-82cc-e0a943edb408",
   "metadata": {},
   "source": [
    "# Angel Part(KNN)"
   ]
  },
  {
   "cell_type": "code",
   "execution_count": 5,
   "id": "be78e547-4714-4fb2-9808-474107cd5e48",
   "metadata": {},
   "outputs": [
    {
     "name": "stdout",
     "output_type": "stream",
     "text": [
      "Accuracy in k = 5: 77.17%\n"
     ]
    }
   ],
   "source": [
    "# trains model\n",
    "knn.fit(X_train,y_train)\n",
    "\n",
    "# prediction \n",
    "y_pred_knn = knn.predict(X_test)\n",
    "\n",
    "accuracy_knn = accuracy_score(y_test, y_pred_knn)\n",
    "print(f\"Accuracy in k = {5}: {accuracy_knn * 100:.2f}%\")\n",
    "\n",
    "accuracy_scores.append(accuracy_knn)"
   ]
  },
  {
   "cell_type": "markdown",
   "id": "d1790a50-685a-47b8-8932-e7747926bbcd",
   "metadata": {},
   "source": [
    "# Tony Part(Decision Tree)"
   ]
  },
  {
   "cell_type": "code",
   "execution_count": 6,
   "id": "13a432c3-b535-4617-95e5-74833e5046f5",
   "metadata": {},
   "outputs": [
    {
     "name": "stdout",
     "output_type": "stream",
     "text": [
      "Accuracy of Decision Tree: 85.16%\n"
     ]
    }
   ],
   "source": [
    "dt.fit(X_train, y_train)\n",
    "\n",
    "y_pred_dt = dt.predict(X_test)\n",
    "\n",
    "accuracy_dt = accuracy_score(y_test, y_pred_dt)\n",
    "print(f\"Accuracy of Decision Tree: {accuracy_dt * 100:.2f}%\")\n",
    "\n",
    "accuracy_scores.append(accuracy_dt)"
   ]
  },
  {
   "cell_type": "markdown",
   "id": "8fbac205-efbc-4168-af48-dade3ff189df",
   "metadata": {},
   "source": [
    "# Santi Part(Random Forest):"
   ]
  },
  {
   "cell_type": "code",
   "execution_count": 7,
   "id": "ed4863e8-a008-4465-bfb0-80a2aa0225a1",
   "metadata": {},
   "outputs": [
    {
     "name": "stdout",
     "output_type": "stream",
     "text": [
      "Accuracy of Random Forest: 89.81%\n"
     ]
    }
   ],
   "source": [
    "rf.fit(X_train, y_train)\n",
    "\n",
    "y_pred_rf = rf.predict(X_test)\n",
    "\n",
    "accuracy_rf = accuracy_score(y_test, y_pred_rf)\n",
    "print(f\"Accuracy of Random Forest: {accuracy_rf * 100:.2f}%\")\n",
    "\n",
    "accuracy_scores.append(accuracy_rf)"
   ]
  },
  {
   "cell_type": "markdown",
   "id": "971ed47e-01f3-4bfd-b630-28ee0813f69a",
   "metadata": {},
   "source": [
    "# Shambavi Part(Multinomial Logistic Regression)"
   ]
  },
  {
   "cell_type": "code",
   "execution_count": 8,
   "id": "b3695bb7-77f9-455b-91f2-23c854ecfd74",
   "metadata": {},
   "outputs": [
    {
     "name": "stdout",
     "output_type": "stream",
     "text": [
      "Accuracy of Multinomial Logistic Regression: 86.39%\n"
     ]
    }
   ],
   "source": [
    "lr.fit(X_train, y_train)\n",
    "\n",
    "y_pred_lr = lr.predict(X_test)\n",
    "\n",
    "accuracy_lr = accuracy_score(y_test, y_pred_lr)\n",
    "print(f\"Accuracy of Multinomial Logistic Regression: {accuracy_lr * 100:.2f}%\")\n",
    "\n",
    "accuracy_scores.append(accuracy_lr)"
   ]
  },
  {
   "cell_type": "markdown",
   "id": "8f48499c-1302-4a85-8f42-a1f1a242535a",
   "metadata": {},
   "source": [
    "# Anthony Part(Linear Regression)"
   ]
  },
  {
   "cell_type": "code",
   "execution_count": 9,
   "id": "5adc44b3-823a-4ce0-8941-32d43cfcdc7f",
   "metadata": {},
   "outputs": [
    {
     "name": "stdout",
     "output_type": "stream",
     "text": [
      "Accuracy of Linear Regression (rounded to nearest class): 24.61%\n"
     ]
    }
   ],
   "source": [
    "linr.fit(X_train_normalized, y_train)\n",
    "\n",
    "y_pred_linr = linr.predict(X_test_normalized)\n",
    "\n",
    "# Round predictions to nearest integer\n",
    "y_pred_class = np.round(y_pred_linr).astype(int)\n",
    "\n",
    "# Ensure predictions stay within valid class range (0 to 5)\n",
    "y_pred_class = np.clip(y_pred_class, 0, 5)\n",
    "\n",
    "accuracy_linr = accuracy_score(y_test, y_pred_class)\n",
    "print(f\"Accuracy of Linear Regression (rounded to nearest class): {accuracy_linr * 100:.2f}%\")\n",
    "\n",
    "accuracy_scores.append(accuracy_linr)"
   ]
  },
  {
   "cell_type": "markdown",
   "id": "060018d7-d46d-4dfb-89d6-6b18ac32a593",
   "metadata": {},
   "source": [
    "# Visualize Data"
   ]
  },
  {
   "cell_type": "code",
   "execution_count": 10,
   "id": "5f07b6bb-3f5e-4c20-9abd-3e50e8c8ef0f",
   "metadata": {},
   "outputs": [
    {
     "data": {
      "image/png": "[encoded data removed]",
      "text/plain": [
       "<Figure size 1000x600 with 1 Axes>"
      ]
     },
     "metadata": {},
     "output_type": "display_data"
    }
   ],
   "source": [
    "# Create a bar plot to compare the accuracy of models\n",
    "plt.figure(figsize=(10, 6))\n",
    "plt.bar(models.keys(), accuracy_scores, color=['blue', 'green', 'red', 'purple', 'orange'])\n",
    "plt.xlabel('Model')\n",
    "plt.ylabel('Accuracy')\n",
    "plt.title('Model Comparison: Accuracy of Different Algorithms')\n",
    "plt.ylim(0, 1)  # Accuracy range from 0 to 1\n",
    "plt.show()"
   ]
  },
  {
   "cell_type": "code",
   "execution_count": 11,
   "id": "24b9b057-5d83-4c3c-a6e5-0cc14d7a0857",
   "metadata": {},
   "outputs": [
    {
     "data": {
      "image/png": "[encoded data removed]",
      "text/plain": [
       "<Figure size 1000x600 with 1 Axes>"
      ]
     },
     "metadata": {},
     "output_type": "display_data"
    }
   ],
   "source": [
    "# Create a line plot to compare the accuracy of models\n",
    "plt.figure(figsize=(10, 6))\n",
    "plt.plot(models.keys(), accuracy_scores, marker='o', linestyle='-', color='b', label='Accuracy')\n",
    "plt.xlabel('Model')\n",
    "plt.ylabel('Accuracy')\n",
    "plt.title('Model Comparison: Accuracy of Different Algorithms')\n",
    "plt.ylim(0, 1)  # Accuracy range from 0 to 1\n",
    "plt.grid(True)\n",
    "plt.show()"
   ]
  },
  {
   "cell_type": "code",
   "execution_count": null,
   "id": "3813e43b-11ef-48f8-b032-e5a6d8448ead",
   "metadata": {},
   "outputs": [],
   "source": []
  }
 ],
 "metadata": {
  "kernelspec": {
   "display_name": "Python 3 (ipykernel)",
   "language": "python",
   "name": "python3"
  },
  "language_info": {
   "codemirror_mode": {
    "name": "ipython",
    "version": 3
   },
   "file_extension": ".py",
   "mimetype": "text/x-python",
   "name": "python",
   "nbconvert_exporter": "python",
   "pygments_lexer": "ipython3",
   "version": "3.12.4"
  }
 },
 "nbformat": 4,
 "nbformat_minor": 5
}
